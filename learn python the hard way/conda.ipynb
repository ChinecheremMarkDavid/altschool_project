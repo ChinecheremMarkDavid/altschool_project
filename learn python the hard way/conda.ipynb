{
 "cells": [
  {
   "cell_type": "code",
   "execution_count": 3,
   "id": "585d3e1a",
   "metadata": {},
   "outputs": [
    {
     "data": {
      "text/plain": [
       "['a', 'b', 'c', 'd', 'e', 'f', 'g', 'h']"
      ]
     },
     "execution_count": 3,
     "metadata": {},
     "output_type": "execute_result"
    }
   ],
   "source": [
    "lists = [1,2,3,4,5,6,7,8,9,'a','b','c','d','e','f','g','h']\n",
    "lists[9:]"
   ]
  },
  {
   "cell_type": "code",
   "execution_count": 40,
   "id": "50f5f1ec",
   "metadata": {},
   "outputs": [
    {
     "name": "stdout",
     "output_type": "stream",
     "text": [
      "[23, 44, 'eche']\n"
     ]
    }
   ],
   "source": [
    "# lists.extend([23,44,'eche'])\n",
    "print(lists[-3:])"
   ]
  },
  {
   "cell_type": "code",
   "execution_count": 16,
   "id": "a33ef6b9",
   "metadata": {},
   "outputs": [
    {
     "name": "stdout",
     "output_type": "stream",
     "text": [
      "[1, 3, 5, 2, 4, 6]\n"
     ]
    }
   ],
   "source": [
    "odd_list = [1,3,5]\n",
    "even_list = [2,4,6]\n",
    "print(odd_list + even_list) "
   ]
  },
  {
   "cell_type": "code",
   "execution_count": 3,
   "id": "567a444d",
   "metadata": {},
   "outputs": [
    {
     "name": "stdout",
     "output_type": "stream",
     "text": [
      "hello\n",
      "hello\n",
      "hello\n",
      "hello\n",
      "hello\n",
      "hello\n",
      "hello\n",
      "hello\n",
      "hello\n",
      "hello\n",
      "hello\n",
      "hello\n",
      "hello\n",
      "hello\n",
      "hello\n",
      "hello\n",
      "hello\n",
      "hello\n",
      "hello\n",
      "hello\n"
     ]
    }
   ],
   "source": [
    "for i in range(20):\n",
    "    print('hello')"
   ]
  },
  {
   "cell_type": "code",
   "execution_count": null,
   "id": "a3807029",
   "metadata": {},
   "outputs": [],
   "source": [
    "def my_funtion():\n",
    "    for i in range(3):\n",
    "        print(\"hey\")\n",
    "        if i == 3:\n",
    "            print(\"3\")"
   ]
  },
  {
   "cell_type": "code",
   "execution_count": null,
   "id": "0cc509b0",
   "metadata": {},
   "outputs": [],
   "source": [
    "full_name = \"mark\"\n",
    "age = 26\n",
    "# makr is 65 years old and still looks young"
   ]
  },
  {
   "cell_type": "code",
   "execution_count": 18,
   "id": "ff436a0f",
   "metadata": {},
   "outputs": [
    {
     "name": "stdout",
     "output_type": "stream",
     "text": [
      "mark is 26 years old and still looks young\n"
     ]
    }
   ],
   "source": [
    "print(f\"{full_name} is {age} years old and still looks young\")"
   ]
  },
  {
   "cell_type": "markdown",
   "id": "696ede45",
   "metadata": {},
   "source": [
    "# input\n"
   ]
  },
  {
   "cell_type": "code",
   "execution_count": 22,
   "id": "1267ac40",
   "metadata": {},
   "outputs": [
    {
     "name": "stdout",
     "output_type": "stream",
     "text": [
      "mark\n",
      "22\n",
      "<class 'str'>\n",
      "<class 'int'>\n"
     ]
    }
   ],
   "source": [
    "full_name = input(\"enter ur full name\")\n",
    "age = int(input(\"what is your age\"))\n",
    "\n",
    "print(full_name)\n",
    "print(age)\n",
    "print(type(full_name))\n",
    "print(type(age))"
   ]
  },
  {
   "cell_type": "code",
   "execution_count": 25,
   "id": "7bc6275a",
   "metadata": {},
   "outputs": [
    {
     "name": "stdout",
     "output_type": "stream",
     "text": [
      "8\n"
     ]
    }
   ],
   "source": [
    "length = int(input(\"what is the lenght of the rectangle\"))\n",
    "width = int(input(\"what is the width of the rectangle\"))\n",
    "perimeter = 2 * (length + width)\n",
    "\n",
    "print(perimeter)"
   ]
  },
  {
   "cell_type": "code",
   "execution_count": 39,
   "id": "b29ef457",
   "metadata": {},
   "outputs": [],
   "source": [
    "users = {\n",
    "    122: {\n",
    "        \"username\": \"mark\",\n",
    "        \"password\": \"iamhappy\",\n",
    "        \"age\": 30,\n",
    "        \"height\": 170.0\n",
    "    },\n",
    "    234: {\n",
    "        \"username\":\"stephanie\",\n",
    "        \"password\": \"iamhappydie\",\n",
    "        \"age\":27,\n",
    "        \"height\": 150.0\n",
    "    },\n",
    "    312: {\n",
    "        \"username\": \"okoye\",\n",
    "        \"password\": \"iamhappydiedie\",\n",
    "        \"age\": 33,\n",
    "        \"height\": 190.0\n",
    "    } \n",
    "}"
   ]
  },
  {
   "cell_type": "code",
   "execution_count": 30,
   "id": "e4df56d3",
   "metadata": {},
   "outputs": [
    {
     "data": {
      "text/plain": [
       "373"
      ]
     },
     "execution_count": 30,
     "metadata": {},
     "output_type": "execute_result"
    }
   ],
   "source": [
    "import random\n",
    "\n",
    "random.randint(1,1000)"
   ]
  },
  {
   "cell_type": "code",
   "execution_count": 31,
   "id": "a1bcca91",
   "metadata": {},
   "outputs": [],
   "source": [
    "def register():\n",
    "    username = input(\"enter your username\").lower()\n",
    "    age = int(input(\"enter your age\"))\n",
    "    height = float(input(\"enter your height\"))\n",
    "    password= input(\"what is your password\")\n",
    "\n",
    "    for user_id, user_info in users.items():\n",
    "        if user_info['username'] == username:\n",
    "            print(f\"{user_id}: username already exists. pease try again.\")\n",
    "            return\n",
    "    users.update({\n",
    "        random.randint(1,1000): {\n",
    "            \"username\": username,\n",
    "            \"age\": age,\n",
    "            \"height\": height,\n",
    "            \"passsword\": password\n",
    "        }\n",
    "    })\n",
    "        "
   ]
  },
  {
   "cell_type": "code",
   "execution_count": 34,
   "id": "517fcd15",
   "metadata": {},
   "outputs": [
    {
     "name": "stdout",
     "output_type": "stream",
     "text": [
      "122: username already exists. pease try again.\n"
     ]
    }
   ],
   "source": [
    "register()\n"
   ]
  },
  {
   "cell_type": "code",
   "execution_count": null,
   "id": "88fd018a",
   "metadata": {},
   "outputs": [],
   "source": [
    "def login():\n",
    "    username = input(\"enter your username\").lower()\n",
    "    password = input(\"enter your password\")\n",
    "\n",
    "    for user_id, user_info in users.items():\n",
    "        if user_info['username'] == username and user_info['password'] == password:\n",
    "            print(f\"user id: {user_id} login successful. welcome {username}.\")\n",
    "            return\n",
    "        \n",
    "    print(\"invalid username or password. Please try again\")\n"
   ]
  },
  {
   "cell_type": "code",
   "execution_count": 1,
   "id": "43227d8b",
   "metadata": {},
   "outputs": [
    {
     "name": "stdout",
     "output_type": "stream",
     "text": [
      "{'jeremy', 'Joseph', 'john', 'James'}\n"
     ]
    }
   ],
   "source": [
    "names = [\"James\", \"Joseph\", \"jeremy\", \"john\"]\n",
    "unique = set()\n",
    "for name in names:\n",
    "    if name.islower():\n",
    "        unique.add(name)\n",
    "        continue\n",
    "    else:\n",
    "        unique.add(name)\n",
    "\n",
    "print(unique)"
   ]
  },
  {
   "cell_type": "code",
   "execution_count": 38,
   "id": "2dd0dfdf",
   "metadata": {},
   "outputs": [
    {
     "data": {
      "text/plain": [
       "{122: {'username': 'mark', 'age': 30, 'height': 170.0},\n",
       " 234: {'username': 'stephanie', 'age': 27, 'height': 150.0},\n",
       " 312: {'username': 'okoye', 'age': 33, 'height': 190.0},\n",
       " 474: {'username': 'maki',\n",
       "  'age': 21,\n",
       "  'height': 223.0,\n",
       "  'passsword': 'asyoucansee'}}"
      ]
     },
     "execution_count": 38,
     "metadata": {},
     "output_type": "execute_result"
    }
   ],
   "source": [
    "users"
   ]
  },
  {
   "cell_type": "markdown",
   "id": "629deea2",
   "metadata": {},
   "source": [
    "# Flow control\n"
   ]
  },
  {
   "cell_type": "code",
   "execution_count": 51,
   "id": "bf3c26b4",
   "metadata": {},
   "outputs": [],
   "source": [
    "# for loop\n",
    "\n",
    "num = [1,2,3,4,5,6,7,8,9]"
   ]
  },
  {
   "cell_type": "code",
   "execution_count": 53,
   "id": "0467d184",
   "metadata": {},
   "outputs": [
    {
     "name": "stdout",
     "output_type": "stream",
     "text": [
      "1\n",
      "3\n",
      "5\n",
      "7\n",
      "9\n"
     ]
    }
   ],
   "source": [
    "for n in num:\n",
    "    if n % 2 != 0:\n",
    "        print(n)"
   ]
  },
  {
   "cell_type": "code",
   "execution_count": 58,
   "id": "e79defd0",
   "metadata": {},
   "outputs": [
    {
     "name": "stdout",
     "output_type": "stream",
     "text": [
      "1\n",
      "3\n",
      "5\n",
      "7\n",
      "9\n"
     ]
    }
   ],
   "source": [
    "for i in range(11):\n",
    "    if i % 2 != 0:\n",
    "        print(i)"
   ]
  },
  {
   "cell_type": "code",
   "execution_count": null,
   "id": "0f25aa00",
   "metadata": {},
   "outputs": [],
   "source": []
  }
 ],
 "metadata": {
  "kernelspec": {
   "display_name": "AdvancedPython",
   "language": "python",
   "name": "python3"
  },
  "language_info": {
   "codemirror_mode": {
    "name": "ipython",
    "version": 3
   },
   "file_extension": ".py",
   "mimetype": "text/x-python",
   "name": "python",
   "nbconvert_exporter": "python",
   "pygments_lexer": "ipython3",
   "version": "3.12.4"
  }
 },
 "nbformat": 4,
 "nbformat_minor": 5
}
