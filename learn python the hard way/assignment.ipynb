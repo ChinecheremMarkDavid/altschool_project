{
 "cells": [
  {
   "cell_type": "code",
   "execution_count": 8,
   "id": "f054cae0",
   "metadata": {},
   "outputs": [],
   "source": [
    "import random\n",
    "\n",
    "# Data storage\n",
    "users = {}\n"
   ]
  },
  {
   "cell_type": "code",
   "execution_count": 9,
   "id": "e33b331b",
   "metadata": {},
   "outputs": [],
   "source": [
    "def register(email: str, name: str, password: str) -> dict:\n",
    "    # Validation: email must contain '@'\n",
    "    if \"@\" not in email:\n",
    "        return {\"status\": \"error\", \"message\": \"Invalid email address\"}\n",
    "\n",
    "    # Validation: password must be ≥ 8 chars and contain at least one digit\n",
    "    if len(password) < 8 or not any(ch.isdigit() for ch in password):\n",
    "        return {\"status\": \"error\", \"message\": \"Password must be at least 8 characters and contain a digit\"}\n",
    "\n",
    "    # Validation: email must be unique\n",
    "    for user in users.values():\n",
    "        if user[\"email\"] == email:\n",
    "            return {\"status\": \"error\", \"message\": \"User email already taken\"}\n",
    "\n",
    "    # Create unique id\n",
    "    user_id = random.randint(1, 1000)\n",
    "    while user_id in users:  # avoid collision\n",
    "        user_id = random.randint(1, 1000)\n",
    "\n",
    "    # Add user\n",
    "    users[user_id] = {\n",
    "        \"email\": email,\n",
    "        \"name\": name,\n",
    "        \"password\": password,   # plaintext for now\n",
    "        \"is_admin\": False\n",
    "    }\n",
    "\n",
    "    return {\"status\": \"success\", \"message\": \"User registered successfully\", \"user_id\": user_id}\n"
   ]
  },
  {
   "cell_type": "code",
   "execution_count": null,
   "id": "4e5c77af",
   "metadata": {},
   "outputs": [],
   "source": []
  },
  {
   "cell_type": "code",
   "execution_count": 11,
   "id": "7046ae3d",
   "metadata": {},
   "outputs": [],
   "source": [
    "def login(email: str, password: str) -> dict:\n",
    "    for user_id, user_info in users.items():\n",
    "        if user_info[\"email\"] == email and user_info[\"password\"] == password:\n",
    "            return {\"status\": \"success\", \"message\": \"Login successful\", \"user_id\": user_id}\n",
    "    return {\"status\": \"error\", \"message\": \"Invalid email or password\"}\n",
    "\n",
    "\n",
    "def remove_user(user_id: int) -> dict:\n",
    "    if user_id in users:\n",
    "        del users[user_id]\n",
    "        return {\"status\": \"success\", \"message\": \"User removed successfully\"}\n",
    "    return {\"status\": \"error\", \"message\": \"User not found\"}\n"
   ]
  },
  {
   "cell_type": "code",
   "execution_count": 12,
   "id": "ed89c43d",
   "metadata": {},
   "outputs": [],
   "source": [
    "def list_users() -> list:\n",
    "    result = []\n",
    "    for user_id, user_info in users.items():\n",
    "        result.append({\n",
    "            \"id\": user_id,\n",
    "            \"email\": user_info[\"email\"],\n",
    "            \"name\": user_info[\"name\"]\n",
    "        })\n",
    "    return result\n",
    "\n",
    "\n",
    "def update_password(user_id: int, old_password: str, new_password: str) -> dict:\n",
    "    if user_id not in users:\n",
    "        return {\"status\": \"error\", \"message\": \"User not found\"}\n",
    "\n",
    "    # Check old password\n",
    "    if users[user_id][\"password\"] != old_password:\n",
    "        return {\"status\": \"error\", \"message\": \"Old password is incorrect\"}\n",
    "\n",
    "    # Validate new password\n",
    "    if len(new_password) < 8 or not any(ch.isdigit() for ch in new_password):\n",
    "        return {\"status\": \"error\", \"message\": \"New password must be at least 8 characters and contain a digit\"}\n",
    "\n",
    "    # Update\n",
    "    users[user_id][\"password\"] = new_password\n",
    "    return {\"status\": \"success\", \"message\": \"Password updated successfully\"}\n"
   ]
  },
  {
   "cell_type": "code",
   "execution_count": 14,
   "id": "749ee0a9",
   "metadata": {},
   "outputs": [
    {
     "data": {
      "text/plain": [
       "{'status': 'success', 'message': 'User registered successfully', 'user_id': 27}"
      ]
     },
     "execution_count": 14,
     "metadata": {},
     "output_type": "execute_result"
    }
   ],
   "source": [
    "register(\"marklatitude1@gmail.com\", \"mark-david\", \"markdavid1\")"
   ]
  },
  {
   "cell_type": "code",
   "execution_count": 16,
   "id": "63560b1a",
   "metadata": {},
   "outputs": [
    {
     "data": {
      "text/plain": [
       "{'status': 'success', 'message': 'Login successful', 'user_id': 27}"
      ]
     },
     "execution_count": 16,
     "metadata": {},
     "output_type": "execute_result"
    }
   ],
   "source": [
    "login(\"marklatitude1@gmail.com\", \"markdavid1\")"
   ]
  },
  {
   "cell_type": "code",
   "execution_count": 18,
   "id": "e7baf590",
   "metadata": {},
   "outputs": [
    {
     "data": {
      "text/plain": [
       "{'status': 'success', 'message': 'User removed successfully'}"
      ]
     },
     "execution_count": 18,
     "metadata": {},
     "output_type": "execute_result"
    }
   ],
   "source": [
    "remove_user(27)"
   ]
  },
  {
   "cell_type": "code",
   "execution_count": 19,
   "id": "24e8f1fc",
   "metadata": {},
   "outputs": [
    {
     "data": {
      "text/plain": [
       "{'status': 'error', 'message': 'User not found'}"
      ]
     },
     "execution_count": 19,
     "metadata": {},
     "output_type": "execute_result"
    }
   ],
   "source": [
    "remove_user(22)"
   ]
  }
 ],
 "metadata": {
  "kernelspec": {
   "display_name": "AdvancedPython",
   "language": "python",
   "name": "python3"
  },
  "language_info": {
   "codemirror_mode": {
    "name": "ipython",
    "version": 3
   },
   "file_extension": ".py",
   "mimetype": "text/x-python",
   "name": "python",
   "nbconvert_exporter": "python",
   "pygments_lexer": "ipython3",
   "version": "3.12.4"
  }
 },
 "nbformat": 4,
 "nbformat_minor": 5
}
